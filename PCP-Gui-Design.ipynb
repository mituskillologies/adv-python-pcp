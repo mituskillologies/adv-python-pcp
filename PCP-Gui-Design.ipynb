{
 "cells": [
  {
   "cell_type": "code",
   "execution_count": 1,
   "id": "f0fa9a22",
   "metadata": {},
   "outputs": [],
   "source": [
    "from tkinter import *"
   ]
  },
  {
   "cell_type": "markdown",
   "id": "b198ea12",
   "metadata": {},
   "source": [
    "#### Simple Window"
   ]
  },
  {
   "cell_type": "code",
   "execution_count": 4,
   "id": "991208d3",
   "metadata": {},
   "outputs": [],
   "source": [
    "top = Tk()\n",
    "top.title('My Application')\n",
    "top.geometry('500x300')\n",
    "top.mainloop()"
   ]
  },
  {
   "cell_type": "markdown",
   "id": "cb964cd1",
   "metadata": {},
   "source": [
    "#### Add label, textbox and button"
   ]
  },
  {
   "cell_type": "code",
   "execution_count": 12,
   "id": "8497a827",
   "metadata": {},
   "outputs": [],
   "source": [
    "top = Tk()\n",
    "top.title('My Application')\n",
    "top.geometry('500x300')\n",
    "\n",
    "def calc():\n",
    "    n = int(num.get())\n",
    "    sq= n*n\n",
    "    result = Label(top, text='Square:'+(str(sq)))\n",
    "    result.pack()\n",
    "    \n",
    "num = IntVar()\n",
    "\n",
    "Label(top, text='Hello World').pack()\n",
    "Entry(top, textvariable=num).pack()\n",
    "Button(top, text='Submit', command=calc).pack()\n",
    "\n",
    "top.mainloop()"
   ]
  },
  {
   "cell_type": "code",
   "execution_count": 18,
   "id": "797b98bd",
   "metadata": {},
   "outputs": [
    {
     "name": "stderr",
     "output_type": "stream",
     "text": [
      "Exception in Tkinter callback\n",
      "Traceback (most recent call last):\n",
      "  File \"/usr/lib/python3.8/tkinter/__init__.py\", line 545, in get\n",
      "    return self._tk.getint(value)\n",
      "_tkinter.TclError: expected integer but got \"08\"\n",
      "\n",
      "During handling of the above exception, another exception occurred:\n",
      "\n",
      "Traceback (most recent call last):\n",
      "  File \"/usr/lib/python3.8/tkinter/__init__.py\", line 1892, in __call__\n",
      "    return self.func(*args)\n",
      "  File \"<ipython-input-18-3285a4307deb>\", line 6, in calc\n",
      "    n = int(num.get())\n",
      "  File \"/usr/lib/python3.8/tkinter/__init__.py\", line 547, in get\n",
      "    return int(self._tk.getdouble(value))\n",
      "_tkinter.TclError: expected floating-point number but got \"08\" (looks like invalid octal number)\n"
     ]
    }
   ],
   "source": [
    "top = Tk()\n",
    "top.title('My Application')\n",
    "top.geometry('500x300')\n",
    "\n",
    "def calc():\n",
    "    n = int(num.get())\n",
    "    result.config(text='Square:'+(str(n*n)))\n",
    "    \n",
    "num = IntVar()\n",
    "\n",
    "Label(top, text='Hello World').pack()\n",
    "Entry(top, textvariable=num).pack()\n",
    "Button(top, text='Submit', command=calc).pack()\n",
    "result = Label(top, text='Square:')\n",
    "result.pack()\n",
    "\n",
    "top.mainloop()"
   ]
  },
  {
   "cell_type": "markdown",
   "id": "17ede2c4",
   "metadata": {},
   "source": [
    "#### Find the addition of two numbers"
   ]
  },
  {
   "cell_type": "code",
   "execution_count": 29,
   "id": "2b5b273c",
   "metadata": {},
   "outputs": [],
   "source": [
    "top = Tk()\n",
    "top.title('My Application')\n",
    "top.geometry('500x300')\n",
    "\n",
    "def add():\n",
    "    n1 = int(num1.get())\n",
    "    n2 = int(num2.get())\n",
    "    result.config(text='Addition:'+(str(n1+n2)))\n",
    "    \n",
    "num1 = IntVar()\n",
    "num2 = IntVar()\n",
    "\n",
    "Label(top, text='First Number:').place(x=50,y=20)\n",
    "Entry(top, textvariable=num1).place(x=50,y=60)\n",
    "Label(top, text='Second Number:').place(x=50,y=100)\n",
    "Entry(top, textvariable=num2).place(x=50,y=140)\n",
    "Button(top, text='Add', command=add).place(x=150,y=180)\n",
    "result = Label(top, text='Addition:')\n",
    "result.place(x=150,y=220)\n",
    "\n",
    "top.mainloop()"
   ]
  },
  {
   "cell_type": "code",
   "execution_count": 30,
   "id": "1bcc4d6d",
   "metadata": {},
   "outputs": [],
   "source": [
    "top = Tk()\n",
    "top.title('My Application')\n",
    "top.geometry('500x300')\n",
    "\n",
    "def add(event):\n",
    "    n1 = int(num1.get())\n",
    "    n2 = int(num2.get())\n",
    "    result.config(text='Addition:'+(str(n1+n2)))\n",
    "    \n",
    "num1 = IntVar()\n",
    "num2 = IntVar()\n",
    "\n",
    "Label(top, text='First Number:').place(x=50,y=20)\n",
    "Entry(top, textvariable=num1).place(x=50,y=60)\n",
    "Label(top, text='Second Number:').place(x=50,y=100)\n",
    "e = Entry(top, textvariable=num2)\n",
    "e.place(x=50,y=140)\n",
    "e.bind('<Return>', add)\n",
    "result = Label(top, text='Addition:')\n",
    "result.place(x=150,y=220)\n",
    "\n",
    "top.mainloop()"
   ]
  },
  {
   "cell_type": "code",
   "execution_count": null,
   "id": "4d43df51",
   "metadata": {},
   "outputs": [],
   "source": [
    "!pip install pandas matplotlib -U"
   ]
  }
 ],
 "metadata": {
  "kernelspec": {
   "display_name": "Python 3",
   "language": "python",
   "name": "python3"
  },
  "language_info": {
   "codemirror_mode": {
    "name": "ipython",
    "version": 3
   },
   "file_extension": ".py",
   "mimetype": "text/x-python",
   "name": "python",
   "nbconvert_exporter": "python",
   "pygments_lexer": "ipython3",
   "version": "3.8.10"
  }
 },
 "nbformat": 4,
 "nbformat_minor": 5
}
