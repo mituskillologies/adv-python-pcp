{
 "cells": [
  {
   "cell_type": "markdown",
   "id": "22039367",
   "metadata": {},
   "source": [
    "#### Reading a file"
   ]
  },
  {
   "cell_type": "code",
   "execution_count": 2,
   "id": "d8073a01",
   "metadata": {},
   "outputs": [],
   "source": [
    "f = open('test.txt')"
   ]
  },
  {
   "cell_type": "code",
   "execution_count": 3,
   "id": "e7e0f638",
   "metadata": {},
   "outputs": [
    {
     "data": {
      "text/plain": [
       "<_io.TextIOWrapper name='test.txt' mode='r' encoding='UTF-8'>"
      ]
     },
     "execution_count": 3,
     "metadata": {},
     "output_type": "execute_result"
    }
   ],
   "source": [
    "f"
   ]
  },
  {
   "cell_type": "code",
   "execution_count": 4,
   "id": "bac53942",
   "metadata": {},
   "outputs": [
    {
     "data": {
      "text/plain": [
       "True"
      ]
     },
     "execution_count": 4,
     "metadata": {},
     "output_type": "execute_result"
    }
   ],
   "source": [
    "f.readable()"
   ]
  },
  {
   "cell_type": "code",
   "execution_count": 5,
   "id": "ed749ed4",
   "metadata": {},
   "outputs": [
    {
     "name": "stdout",
     "output_type": "stream",
     "text": [
      "Hello friends\n",
      "\n"
     ]
    }
   ],
   "source": [
    "print(f.readline())"
   ]
  },
  {
   "cell_type": "code",
   "execution_count": 6,
   "id": "47951dcb",
   "metadata": {},
   "outputs": [
    {
     "name": "stdout",
     "output_type": "stream",
     "text": [
      "How are you?\n",
      "\n"
     ]
    }
   ],
   "source": [
    "print(f.readline())"
   ]
  },
  {
   "cell_type": "code",
   "execution_count": 7,
   "id": "709495f5",
   "metadata": {},
   "outputs": [
    {
     "name": "stdout",
     "output_type": "stream",
     "text": [
      "Welcome to Python Programming\n",
      "\n"
     ]
    }
   ],
   "source": [
    "print(f.readline())"
   ]
  },
  {
   "cell_type": "code",
   "execution_count": 8,
   "id": "aaeeb954",
   "metadata": {},
   "outputs": [
    {
     "name": "stdout",
     "output_type": "stream",
     "text": [
      "['Hello friends\\n', 'How are you?\\n', 'Welcome to Python Programming\\n']\n"
     ]
    }
   ],
   "source": [
    "f = open('test.txt')\n",
    "print(f.readlines())"
   ]
  },
  {
   "cell_type": "code",
   "execution_count": 10,
   "id": "ff8766b2",
   "metadata": {},
   "outputs": [],
   "source": [
    "f = open('test.txt')\n",
    "lines = f.readlines()"
   ]
  },
  {
   "cell_type": "code",
   "execution_count": 11,
   "id": "5aaeb777",
   "metadata": {},
   "outputs": [
    {
     "name": "stdout",
     "output_type": "stream",
     "text": [
      "Hello friends\n",
      "\n",
      "How are you?\n",
      "\n",
      "Welcome to Python Programming\n",
      "\n"
     ]
    }
   ],
   "source": [
    "for line in lines:\n",
    "    print(line)"
   ]
  },
  {
   "cell_type": "code",
   "execution_count": 12,
   "id": "eeb4ebf9",
   "metadata": {},
   "outputs": [],
   "source": [
    "f = open('test.txt')\n",
    "data = f.read()"
   ]
  },
  {
   "cell_type": "code",
   "execution_count": 13,
   "id": "379b44b1",
   "metadata": {},
   "outputs": [
    {
     "name": "stdout",
     "output_type": "stream",
     "text": [
      "Hello friends\n",
      "How are you?\n",
      "Welcome to Python Programming\n",
      "\n"
     ]
    }
   ],
   "source": [
    "print(data)"
   ]
  },
  {
   "cell_type": "markdown",
   "id": "6e097c23",
   "metadata": {},
   "source": [
    "#### Count total number of 'the' in a file"
   ]
  },
  {
   "cell_type": "code",
   "execution_count": 20,
   "id": "c27835f9",
   "metadata": {},
   "outputs": [
    {
     "name": "stdout",
     "output_type": "stream",
     "text": [
      "24\n"
     ]
    }
   ],
   "source": [
    "f = open('maharashtra.txt')\n",
    "data = f.read().lower()\n",
    "words = data.split()\n",
    "print(words.count('the'))"
   ]
  },
  {
   "cell_type": "code",
   "execution_count": 21,
   "id": "70091d94",
   "metadata": {},
   "outputs": [],
   "source": [
    "x = '123'"
   ]
  },
  {
   "cell_type": "code",
   "execution_count": 22,
   "id": "8c527203",
   "metadata": {},
   "outputs": [
    {
     "data": {
      "text/plain": [
       "123"
      ]
     },
     "execution_count": 22,
     "metadata": {},
     "output_type": "execute_result"
    }
   ],
   "source": [
    "int(x)"
   ]
  },
  {
   "cell_type": "code",
   "execution_count": 23,
   "id": "f9fa5adc",
   "metadata": {},
   "outputs": [
    {
     "data": {
      "text/plain": [
       "True"
      ]
     },
     "execution_count": 23,
     "metadata": {},
     "output_type": "execute_result"
    }
   ],
   "source": [
    "x.isdigit()"
   ]
  },
  {
   "cell_type": "code",
   "execution_count": 30,
   "id": "6c065717",
   "metadata": {},
   "outputs": [
    {
     "name": "stdout",
     "output_type": "stream",
     "text": [
      "Average: 26.4\n"
     ]
    }
   ],
   "source": [
    "f = open('ages.txt')\n",
    "data = f.read()\n",
    "words = data.split()\n",
    "ages = []\n",
    "for word in words:\n",
    "    if word.isdigit():\n",
    "        ages.append(int(word))\n",
    "\n",
    "print('Average:',sum(ages) / len(ages))"
   ]
  },
  {
   "cell_type": "code",
   "execution_count": 29,
   "id": "262ba3ad",
   "metadata": {},
   "outputs": [
    {
     "data": {
      "text/plain": [
       "[24, 27, 32, 22, 27]"
      ]
     },
     "execution_count": 29,
     "metadata": {},
     "output_type": "execute_result"
    }
   ],
   "source": [
    "ages"
   ]
  },
  {
   "cell_type": "code",
   "execution_count": 34,
   "id": "93bfb63d",
   "metadata": {},
   "outputs": [
    {
     "name": "stdout",
     "output_type": "stream",
     "text": [
      "Average: 26.4\n"
     ]
    }
   ],
   "source": [
    "f = open('ages.txt')\n",
    "data = f.read()\n",
    "words = data.split()\n",
    "ages = [int(word) for word in words if word.isdigit()]\n",
    "print('Average:',sum(ages) / len(ages))"
   ]
  },
  {
   "cell_type": "code",
   "execution_count": 31,
   "id": "810fbb6f",
   "metadata": {},
   "outputs": [
    {
     "data": {
      "text/plain": [
       "True"
      ]
     },
     "execution_count": 31,
     "metadata": {},
     "output_type": "execute_result"
    }
   ],
   "source": [
    "word = 'Pune'\n",
    "word.startswith('P')"
   ]
  },
  {
   "cell_type": "code",
   "execution_count": 32,
   "id": "a2c9aa70",
   "metadata": {},
   "outputs": [],
   "source": [
    "# How many words start with t / T?"
   ]
  },
  {
   "cell_type": "code",
   "execution_count": 35,
   "id": "97e1274c",
   "metadata": {},
   "outputs": [
    {
     "name": "stdout",
     "output_type": "stream",
     "text": [
      "Total: 7\n"
     ]
    }
   ],
   "source": [
    "f = open('ages.txt')\n",
    "data = f.read().lower()\n",
    "words = data.split()\n",
    "count = 0\n",
    "for word in words:\n",
    "    if word.startswith('t'):\n",
    "        count += 1\n",
    "\n",
    "print('Total:',count)"
   ]
  },
  {
   "cell_type": "code",
   "execution_count": 36,
   "id": "02a585e0",
   "metadata": {},
   "outputs": [
    {
     "data": {
      "text/plain": [
       "7"
      ]
     },
     "execution_count": 36,
     "metadata": {},
     "output_type": "execute_result"
    }
   ],
   "source": [
    "f = open('ages.txt')\n",
    "data = f.read().lower()\n",
    "words = data.split()\n",
    "sum([1 for word in words if word.startswith('t')])"
   ]
  },
  {
   "cell_type": "markdown",
   "id": "233f6d63",
   "metadata": {},
   "source": [
    "#### The 'with' statement"
   ]
  },
  {
   "cell_type": "code",
   "execution_count": 38,
   "id": "4ae04d09",
   "metadata": {},
   "outputs": [
    {
     "name": "stdout",
     "output_type": "stream",
     "text": [
      "Hello friends\n",
      "How are you?\n",
      "Welcome to Python Programming\n",
      "\n"
     ]
    }
   ],
   "source": [
    "with open('test.txt') as f:\n",
    "    print(f.read())"
   ]
  },
  {
   "cell_type": "markdown",
   "id": "42ebd47d",
   "metadata": {},
   "source": [
    "#### Writing a file"
   ]
  },
  {
   "cell_type": "code",
   "execution_count": 41,
   "id": "08ad162a",
   "metadata": {},
   "outputs": [],
   "source": [
    "f = open('myfile.txt', 'w')"
   ]
  },
  {
   "cell_type": "code",
   "execution_count": 44,
   "id": "ae468e84",
   "metadata": {},
   "outputs": [],
   "source": [
    "f.write('Hello World')\n",
    "f.close()"
   ]
  },
  {
   "cell_type": "code",
   "execution_count": 45,
   "id": "00eaa736",
   "metadata": {},
   "outputs": [],
   "source": [
    "f1 = open('test.txt')\n",
    "f2 = open('test2.txt','w')\n",
    "f2.write(f1.read())\n",
    "f2.close()"
   ]
  },
  {
   "cell_type": "markdown",
   "id": "b5fe69e5",
   "metadata": {},
   "source": [
    "#### seek and tell"
   ]
  },
  {
   "cell_type": "code",
   "execution_count": 47,
   "id": "f83edb51",
   "metadata": {},
   "outputs": [],
   "source": [
    "f = open('test.txt')"
   ]
  },
  {
   "cell_type": "code",
   "execution_count": 48,
   "id": "b2397a46",
   "metadata": {},
   "outputs": [
    {
     "data": {
      "text/plain": [
       "0"
      ]
     },
     "execution_count": 48,
     "metadata": {},
     "output_type": "execute_result"
    }
   ],
   "source": [
    "f.tell()"
   ]
  },
  {
   "cell_type": "code",
   "execution_count": 49,
   "id": "cc61f36b",
   "metadata": {},
   "outputs": [
    {
     "data": {
      "text/plain": [
       "'Hello friends\\n'"
      ]
     },
     "execution_count": 49,
     "metadata": {},
     "output_type": "execute_result"
    }
   ],
   "source": [
    "f.readline()"
   ]
  },
  {
   "cell_type": "code",
   "execution_count": 50,
   "id": "9fd950a9",
   "metadata": {},
   "outputs": [
    {
     "data": {
      "text/plain": [
       "14"
      ]
     },
     "execution_count": 50,
     "metadata": {},
     "output_type": "execute_result"
    }
   ],
   "source": [
    "f.tell()"
   ]
  },
  {
   "cell_type": "code",
   "execution_count": 51,
   "id": "546c97a5",
   "metadata": {},
   "outputs": [
    {
     "data": {
      "text/plain": [
       "'How are you?\\n'"
      ]
     },
     "execution_count": 51,
     "metadata": {},
     "output_type": "execute_result"
    }
   ],
   "source": [
    "f.readline()"
   ]
  },
  {
   "cell_type": "code",
   "execution_count": 52,
   "id": "5a732c2b",
   "metadata": {},
   "outputs": [
    {
     "data": {
      "text/plain": [
       "27"
      ]
     },
     "execution_count": 52,
     "metadata": {},
     "output_type": "execute_result"
    }
   ],
   "source": [
    "f.tell()"
   ]
  },
  {
   "cell_type": "code",
   "execution_count": 53,
   "id": "d165a061",
   "metadata": {},
   "outputs": [
    {
     "data": {
      "text/plain": [
       "0"
      ]
     },
     "execution_count": 53,
     "metadata": {},
     "output_type": "execute_result"
    }
   ],
   "source": [
    "f.seek(0)"
   ]
  },
  {
   "cell_type": "code",
   "execution_count": 54,
   "id": "fa874d5b",
   "metadata": {},
   "outputs": [
    {
     "data": {
      "text/plain": [
       "'Hello friends\\n'"
      ]
     },
     "execution_count": 54,
     "metadata": {},
     "output_type": "execute_result"
    }
   ],
   "source": [
    "f.readline()"
   ]
  },
  {
   "cell_type": "code",
   "execution_count": 55,
   "id": "e47c54b6",
   "metadata": {},
   "outputs": [
    {
     "data": {
      "text/plain": [
       "4"
      ]
     },
     "execution_count": 55,
     "metadata": {},
     "output_type": "execute_result"
    }
   ],
   "source": [
    "f.seek(4)"
   ]
  },
  {
   "cell_type": "code",
   "execution_count": 56,
   "id": "f061f711",
   "metadata": {},
   "outputs": [
    {
     "data": {
      "text/plain": [
       "'o friends\\n'"
      ]
     },
     "execution_count": 56,
     "metadata": {},
     "output_type": "execute_result"
    }
   ],
   "source": [
    "f.readline()"
   ]
  },
  {
   "cell_type": "code",
   "execution_count": 57,
   "id": "001d4d6a",
   "metadata": {},
   "outputs": [],
   "source": [
    "t = 7567845124648126984127491967512847"
   ]
  },
  {
   "cell_type": "code",
   "execution_count": 58,
   "id": "e74417e7",
   "metadata": {},
   "outputs": [
    {
     "data": {
      "text/plain": [
       "7567845124648126984127491967512847"
      ]
     },
     "execution_count": 58,
     "metadata": {},
     "output_type": "execute_result"
    }
   ],
   "source": [
    "t"
   ]
  },
  {
   "cell_type": "code",
   "execution_count": 59,
   "id": "4388fcaf",
   "metadata": {},
   "outputs": [
    {
     "data": {
      "text/plain": [
       "int"
      ]
     },
     "execution_count": 59,
     "metadata": {},
     "output_type": "execute_result"
    }
   ],
   "source": [
    "type(t)"
   ]
  },
  {
   "cell_type": "code",
   "execution_count": 60,
   "id": "f754d090",
   "metadata": {},
   "outputs": [
    {
     "data": {
      "text/plain": [
       "82428020290717931526322757213957737522203944845923766277749448075840510739481768470855843753637905686228377690987491110872604064104763581604230160550157900871986438858772025055030031102962936160539580146204526900304923605047076691064035126274612780701495257845406107618825255754508574812073505823143997142798558160219926021619289086121073776057334939917676767213636252165455474324346723698128613432348356928403431103999340716327160978504737456390144"
      ]
     },
     "execution_count": 60,
     "metadata": {},
     "output_type": "execute_result"
    }
   ],
   "source": [
    "x = 4464**123\n",
    "x"
   ]
  },
  {
   "cell_type": "code",
   "execution_count": 61,
   "id": "b01220c9",
   "metadata": {},
   "outputs": [],
   "source": [
    "import numpy as np"
   ]
  },
  {
   "cell_type": "code",
   "execution_count": null,
   "id": "01c853ca",
   "metadata": {},
   "outputs": [],
   "source": []
  }
 ],
 "metadata": {
  "kernelspec": {
   "display_name": "Python 3",
   "language": "python",
   "name": "python3"
  },
  "language_info": {
   "codemirror_mode": {
    "name": "ipython",
    "version": 3
   },
   "file_extension": ".py",
   "mimetype": "text/x-python",
   "name": "python",
   "nbconvert_exporter": "python",
   "pygments_lexer": "ipython3",
   "version": "3.8.10"
  }
 },
 "nbformat": 4,
 "nbformat_minor": 5
}
