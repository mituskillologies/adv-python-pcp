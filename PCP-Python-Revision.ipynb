{
 "cells": [
  {
   "cell_type": "code",
   "execution_count": 1,
   "id": "cf8454d0",
   "metadata": {},
   "outputs": [
    {
     "name": "stdout",
     "output_type": "stream",
     "text": [
      "Hello World\n"
     ]
    }
   ],
   "source": [
    "print('Hello World')"
   ]
  },
  {
   "cell_type": "code",
   "execution_count": 2,
   "id": "1d03d97a",
   "metadata": {},
   "outputs": [
    {
     "name": "stdout",
     "output_type": "stream",
     "text": [
      "Enter first number: 45\n",
      "Enter second number: 54\n",
      "Addition is: 99\n"
     ]
    }
   ],
   "source": [
    "# Addition of two numbers\n",
    "num1 = int(input('Enter first number: '))\n",
    "num2 = int(input('Enter second number: '))\n",
    "add = num1 + num2\n",
    "print('Addition is:', add)"
   ]
  },
  {
   "cell_type": "code",
   "execution_count": 3,
   "id": "6930ff9b",
   "metadata": {},
   "outputs": [
    {
     "name": "stdout",
     "output_type": "stream",
     "text": [
      "Enter first number: 67\n",
      "Enter second number: 45\n",
      "67 is larger\n"
     ]
    }
   ],
   "source": [
    "# Find larger number between two\n",
    "num1 = int(input('Enter first number: '))\n",
    "num2 = int(input('Enter second number: '))\n",
    "if num1 > num2:\n",
    "    print(num1,'is larger')\n",
    "else:\n",
    "    print(num2,'is larger')"
   ]
  },
  {
   "cell_type": "code",
   "execution_count": 4,
   "id": "8249c391",
   "metadata": {},
   "outputs": [
    {
     "name": "stdout",
     "output_type": "stream",
     "text": [
      "Tushar\n",
      "Tushar\n",
      "Tushar\n",
      "Tushar\n",
      "Tushar\n",
      "Tushar\n",
      "Tushar\n",
      "Tushar\n",
      "Tushar\n",
      "Tushar\n"
     ]
    }
   ],
   "source": [
    "# Print your name 10 times using while loop\n",
    "count = 0\n",
    "while count < 10:\n",
    "    print('Tushar')\n",
    "    count += 1"
   ]
  },
  {
   "cell_type": "code",
   "execution_count": 5,
   "id": "56ed03ed",
   "metadata": {},
   "outputs": [
    {
     "name": "stdout",
     "output_type": "stream",
     "text": [
      "Addition is 55\n"
     ]
    }
   ],
   "source": [
    "# Find the addition of first 10 natural number using\n",
    "# for loop\n",
    "\n",
    "add = 0\n",
    "for n in range(1,11):\n",
    "    add  = add + n\n",
    "    \n",
    "print('Addition is', add)"
   ]
  },
  {
   "cell_type": "markdown",
   "id": "6bfb821d",
   "metadata": {},
   "source": [
    "#### Data Structures"
   ]
  },
  {
   "cell_type": "code",
   "execution_count": 7,
   "id": "97f52e9e",
   "metadata": {},
   "outputs": [],
   "source": [
    "# list\n",
    "num = [56, 34, 21, 45, 12, 46]"
   ]
  },
  {
   "cell_type": "code",
   "execution_count": 8,
   "id": "5d5fb066",
   "metadata": {},
   "outputs": [
    {
     "data": {
      "text/plain": [
       "list"
      ]
     },
     "execution_count": 8,
     "metadata": {},
     "output_type": "execute_result"
    }
   ],
   "source": [
    "type(num)"
   ]
  },
  {
   "cell_type": "code",
   "execution_count": 9,
   "id": "e73707bf",
   "metadata": {},
   "outputs": [
    {
     "data": {
      "text/plain": [
       "21"
      ]
     },
     "execution_count": 9,
     "metadata": {},
     "output_type": "execute_result"
    }
   ],
   "source": [
    "num[2]"
   ]
  },
  {
   "cell_type": "code",
   "execution_count": 10,
   "id": "3e0908d4",
   "metadata": {},
   "outputs": [
    {
     "name": "stdout",
     "output_type": "stream",
     "text": [
      "[56, 34, 21.63, 45, 12, 46, 'Hello']\n"
     ]
    }
   ],
   "source": [
    "num = [56, 34, 21.63, 45, 12, 46, 'Hello']\n",
    "print(num)"
   ]
  },
  {
   "cell_type": "code",
   "execution_count": 11,
   "id": "2c9634e1",
   "metadata": {},
   "outputs": [
    {
     "data": {
      "text/plain": [
       "'Hello'"
      ]
     },
     "execution_count": 11,
     "metadata": {},
     "output_type": "execute_result"
    }
   ],
   "source": [
    "num[-1]"
   ]
  },
  {
   "cell_type": "code",
   "execution_count": 12,
   "id": "8861dff9",
   "metadata": {},
   "outputs": [
    {
     "data": {
      "text/plain": [
       "[56, 34, 21.63, 45, 12, 46, 'Hello', 87]"
      ]
     },
     "execution_count": 12,
     "metadata": {},
     "output_type": "execute_result"
    }
   ],
   "source": [
    "num.append(87)\n",
    "num"
   ]
  },
  {
   "cell_type": "code",
   "execution_count": 13,
   "id": "2f53c810",
   "metadata": {},
   "outputs": [
    {
     "data": {
      "text/plain": [
       "[87, 'Hello', 46, 12, 45, 21.63, 34, 56]"
      ]
     },
     "execution_count": 13,
     "metadata": {},
     "output_type": "execute_result"
    }
   ],
   "source": [
    "num.reverse()\n",
    "num"
   ]
  },
  {
   "cell_type": "code",
   "execution_count": 14,
   "id": "7d74605d",
   "metadata": {},
   "outputs": [],
   "source": [
    "# tuple\n",
    "num = (45,12,67,43,78.90,'Pune',12)"
   ]
  },
  {
   "cell_type": "code",
   "execution_count": 15,
   "id": "c8f100e0",
   "metadata": {},
   "outputs": [
    {
     "data": {
      "text/plain": [
       "tuple"
      ]
     },
     "execution_count": 15,
     "metadata": {},
     "output_type": "execute_result"
    }
   ],
   "source": [
    "type(num)"
   ]
  },
  {
   "cell_type": "code",
   "execution_count": 16,
   "id": "66de34d8",
   "metadata": {},
   "outputs": [
    {
     "data": {
      "text/plain": [
       "(45, 12, 67, 43, 78.9, 'Pune', 12)"
      ]
     },
     "execution_count": 16,
     "metadata": {},
     "output_type": "execute_result"
    }
   ],
   "source": [
    "num"
   ]
  },
  {
   "cell_type": "code",
   "execution_count": 17,
   "id": "f8ce2788",
   "metadata": {},
   "outputs": [
    {
     "data": {
      "text/plain": [
       "67"
      ]
     },
     "execution_count": 17,
     "metadata": {},
     "output_type": "execute_result"
    }
   ],
   "source": [
    "num[2]"
   ]
  },
  {
   "cell_type": "code",
   "execution_count": 18,
   "id": "d88a85db",
   "metadata": {},
   "outputs": [
    {
     "ename": "TypeError",
     "evalue": "'tuple' object does not support item assignment",
     "output_type": "error",
     "traceback": [
      "\u001b[0;31m---------------------------------------------------------------------------\u001b[0m",
      "\u001b[0;31mTypeError\u001b[0m                                 Traceback (most recent call last)",
      "\u001b[0;32m<ipython-input-18-2bb14479a1f7>\u001b[0m in \u001b[0;36m<module>\u001b[0;34m\u001b[0m\n\u001b[0;32m----> 1\u001b[0;31m \u001b[0mnum\u001b[0m\u001b[0;34m[\u001b[0m\u001b[0;36m2\u001b[0m\u001b[0;34m]\u001b[0m \u001b[0;34m=\u001b[0m \u001b[0;36m56\u001b[0m\u001b[0;34m\u001b[0m\u001b[0;34m\u001b[0m\u001b[0m\n\u001b[0m",
      "\u001b[0;31mTypeError\u001b[0m: 'tuple' object does not support item assignment"
     ]
    }
   ],
   "source": [
    "num[2] = 56"
   ]
  },
  {
   "cell_type": "code",
   "execution_count": 19,
   "id": "1bb0927d",
   "metadata": {},
   "outputs": [],
   "source": [
    "# Dictionary\n",
    "d = {5:23, 7:125, 10:63, 12:46}"
   ]
  },
  {
   "cell_type": "code",
   "execution_count": 20,
   "id": "fd3617ce",
   "metadata": {},
   "outputs": [
    {
     "data": {
      "text/plain": [
       "dict"
      ]
     },
     "execution_count": 20,
     "metadata": {},
     "output_type": "execute_result"
    }
   ],
   "source": [
    "type(d)"
   ]
  },
  {
   "cell_type": "code",
   "execution_count": 21,
   "id": "01f7d842",
   "metadata": {},
   "outputs": [
    {
     "data": {
      "text/plain": [
       "125"
      ]
     },
     "execution_count": 21,
     "metadata": {},
     "output_type": "execute_result"
    }
   ],
   "source": [
    "d[7]"
   ]
  },
  {
   "cell_type": "code",
   "execution_count": 22,
   "id": "c2f5af52",
   "metadata": {},
   "outputs": [
    {
     "data": {
      "text/plain": [
       "{5: 23, 7: 390, 10: 63, 12: 46}"
      ]
     },
     "execution_count": 22,
     "metadata": {},
     "output_type": "execute_result"
    }
   ],
   "source": [
    "d[7] = 390\n",
    "d"
   ]
  },
  {
   "cell_type": "code",
   "execution_count": 23,
   "id": "a732e267",
   "metadata": {},
   "outputs": [
    {
     "data": {
      "text/plain": [
       "{5: 23, 7: 390, 10: 63, 12: 46, 'z': 'zebra'}"
      ]
     },
     "execution_count": 23,
     "metadata": {},
     "output_type": "execute_result"
    }
   ],
   "source": [
    "d['z'] = 'zebra'\n",
    "d"
   ]
  },
  {
   "cell_type": "code",
   "execution_count": 24,
   "id": "2b14bd32",
   "metadata": {},
   "outputs": [
    {
     "data": {
      "text/plain": [
       "{3, 4, 5, 6, 7, 8}"
      ]
     },
     "execution_count": 24,
     "metadata": {},
     "output_type": "execute_result"
    }
   ],
   "source": [
    "# set\n",
    "s = {5,6,4,5,3,7,6,5,4,5,6,7,8}\n",
    "s"
   ]
  },
  {
   "cell_type": "code",
   "execution_count": 25,
   "id": "a517309d",
   "metadata": {},
   "outputs": [
    {
     "data": {
      "text/plain": [
       "set"
      ]
     },
     "execution_count": 25,
     "metadata": {},
     "output_type": "execute_result"
    }
   ],
   "source": [
    "type(s)"
   ]
  },
  {
   "cell_type": "markdown",
   "id": "5b980c0f",
   "metadata": {},
   "source": [
    "#### In-built functions"
   ]
  },
  {
   "cell_type": "code",
   "execution_count": 27,
   "id": "b8e51587",
   "metadata": {},
   "outputs": [],
   "source": [
    "x = [45,22,13,56,78,99]"
   ]
  },
  {
   "cell_type": "code",
   "execution_count": 28,
   "id": "be7fd70c",
   "metadata": {},
   "outputs": [
    {
     "data": {
      "text/plain": [
       "6"
      ]
     },
     "execution_count": 28,
     "metadata": {},
     "output_type": "execute_result"
    }
   ],
   "source": [
    "len(x)"
   ]
  },
  {
   "cell_type": "code",
   "execution_count": 31,
   "id": "ad92d4b1",
   "metadata": {},
   "outputs": [
    {
     "data": {
      "text/plain": [
       "313"
      ]
     },
     "execution_count": 31,
     "metadata": {},
     "output_type": "execute_result"
    }
   ],
   "source": [
    "sum(x)"
   ]
  },
  {
   "cell_type": "code",
   "execution_count": 32,
   "id": "19d95f71",
   "metadata": {},
   "outputs": [
    {
     "data": {
      "text/plain": [
       "[13, 22, 45, 56, 78, 99]"
      ]
     },
     "execution_count": 32,
     "metadata": {},
     "output_type": "execute_result"
    }
   ],
   "source": [
    "sorted(x)"
   ]
  },
  {
   "cell_type": "code",
   "execution_count": 33,
   "id": "2845b288",
   "metadata": {},
   "outputs": [
    {
     "data": {
      "text/plain": [
       "(13, 99)"
      ]
     },
     "execution_count": 33,
     "metadata": {},
     "output_type": "execute_result"
    }
   ],
   "source": [
    "min(x), max(x)"
   ]
  },
  {
   "cell_type": "code",
   "execution_count": 34,
   "id": "28ce8977",
   "metadata": {},
   "outputs": [
    {
     "data": {
      "text/plain": [
       "['P', 'u', 'n', 'e']"
      ]
     },
     "execution_count": 34,
     "metadata": {},
     "output_type": "execute_result"
    }
   ],
   "source": [
    "list('Pune')"
   ]
  },
  {
   "cell_type": "code",
   "execution_count": 35,
   "id": "3e554642",
   "metadata": {},
   "outputs": [
    {
     "data": {
      "text/plain": [
       "('P', 'u', 'n', 'e')"
      ]
     },
     "execution_count": 35,
     "metadata": {},
     "output_type": "execute_result"
    }
   ],
   "source": [
    "tuple('Pune')"
   ]
  },
  {
   "cell_type": "markdown",
   "id": "fe7713c7",
   "metadata": {},
   "source": [
    "#### User defined functions"
   ]
  },
  {
   "cell_type": "code",
   "execution_count": 37,
   "id": "b1ea82c9",
   "metadata": {},
   "outputs": [],
   "source": [
    "# Function definition\n",
    "def square(n):\n",
    "    sq = n * n\n",
    "    return sq"
   ]
  },
  {
   "cell_type": "code",
   "execution_count": 38,
   "id": "acc8ec21",
   "metadata": {},
   "outputs": [
    {
     "name": "stdout",
     "output_type": "stream",
     "text": [
      "Enter a number: 4\n",
      "Square is 16\n"
     ]
    }
   ],
   "source": [
    "num = int(input('Enter a number: '))\n",
    "print('Square is', square(num)) # Function call"
   ]
  },
  {
   "cell_type": "code",
   "execution_count": 39,
   "id": "29b6d54f",
   "metadata": {},
   "outputs": [
    {
     "name": "stdout",
     "output_type": "stream",
     "text": [
      "Enter a number: 5\n",
      "Factorial is 120\n"
     ]
    }
   ],
   "source": [
    "# Write a function to find the factorial\n",
    "def factorial(n):\n",
    "    fact = 1\n",
    "    for x in range(1,n+1):\n",
    "        fact = fact * x\n",
    "    return fact\n",
    "    \n",
    "num = int(input('Enter a number: '))\n",
    "print('Factorial is', factorial(num)) # Function call"
   ]
  },
  {
   "cell_type": "markdown",
   "id": "116bdf2c",
   "metadata": {},
   "source": [
    "#### Object Oriented Programming"
   ]
  },
  {
   "cell_type": "code",
   "execution_count": 41,
   "id": "9e97a792",
   "metadata": {},
   "outputs": [],
   "source": [
    "class Person:\n",
    "    def __init__(self, n, a): # Constructor\n",
    "        self.name = n   # instance variable\n",
    "        self.age = a\n",
    "    def show(self):   # function / method\n",
    "        print('Values are:')\n",
    "        print(self.name, self.age)"
   ]
  },
  {
   "cell_type": "code",
   "execution_count": 42,
   "id": "cb93ef3d",
   "metadata": {},
   "outputs": [],
   "source": [
    "obj1 = Person('Vijay', 34)"
   ]
  },
  {
   "cell_type": "code",
   "execution_count": 43,
   "id": "02c8dd22",
   "metadata": {},
   "outputs": [
    {
     "data": {
      "text/plain": [
       "34"
      ]
     },
     "execution_count": 43,
     "metadata": {},
     "output_type": "execute_result"
    }
   ],
   "source": [
    "obj1.age"
   ]
  },
  {
   "cell_type": "code",
   "execution_count": 44,
   "id": "e2e6d729",
   "metadata": {},
   "outputs": [
    {
     "name": "stdout",
     "output_type": "stream",
     "text": [
      "Values are:\n",
      "Vijay 34\n"
     ]
    }
   ],
   "source": [
    "obj1.show()"
   ]
  },
  {
   "cell_type": "code",
   "execution_count": 45,
   "id": "2d3a10b2",
   "metadata": {},
   "outputs": [
    {
     "name": "stdout",
     "output_type": "stream",
     "text": [
      "Values are:\n",
      "Ajay 22\n"
     ]
    }
   ],
   "source": [
    "obj2 = Person('Ajay', 22)\n",
    "obj2.show()"
   ]
  },
  {
   "cell_type": "code",
   "execution_count": 46,
   "id": "9f33beea",
   "metadata": {},
   "outputs": [
    {
     "name": "stdout",
     "output_type": "stream",
     "text": [
      "Values are:\n",
      "Sanjay 45\n"
     ]
    }
   ],
   "source": [
    "obj3 = Person('Sanjay', 45)\n",
    "obj3.show()"
   ]
  },
  {
   "cell_type": "code",
   "execution_count": 47,
   "id": "e5a395cc",
   "metadata": {},
   "outputs": [],
   "source": [
    "class Person:\n",
    "    def __init__(self, n, a=25): # Constructor\n",
    "        self.name = n   # instance variable\n",
    "        self.age = a\n",
    "    def show(self):   # function / method\n",
    "        print('Values are:')\n",
    "        print(self.name, self.age)"
   ]
  },
  {
   "cell_type": "code",
   "execution_count": 49,
   "id": "a7ba3f23",
   "metadata": {},
   "outputs": [
    {
     "name": "stdout",
     "output_type": "stream",
     "text": [
      "Values are:\n",
      "Sanjay 25\n"
     ]
    }
   ],
   "source": [
    "obj3 = Person('Sanjay')\n",
    "obj3.show()"
   ]
  },
  {
   "cell_type": "code",
   "execution_count": null,
   "id": "4bae35d4",
   "metadata": {},
   "outputs": [],
   "source": []
  }
 ],
 "metadata": {
  "kernelspec": {
   "display_name": "Python 3",
   "language": "python",
   "name": "python3"
  },
  "language_info": {
   "codemirror_mode": {
    "name": "ipython",
    "version": 3
   },
   "file_extension": ".py",
   "mimetype": "text/x-python",
   "name": "python",
   "nbconvert_exporter": "python",
   "pygments_lexer": "ipython3",
   "version": "3.8.10"
  }
 },
 "nbformat": 4,
 "nbformat_minor": 5
}
